{
  "cells": [
    {
      "cell_type": "markdown",
      "metadata": {
        "id": "view-in-github",
        "colab_type": "text"
      },
      "source": [
        "<a href=\"https://colab.research.google.com/github/Diego20051219/Actividad_3_537610/blob/main/Actividad_3_537610.ipynb\" target=\"_parent\"><img src=\"https://colab.research.google.com/assets/colab-badge.svg\" alt=\"Open In Colab\"/></a>"
      ]
    },
    {
      "cell_type": "code",
      "source": [
        "import numpy as np\n",
        "import scipy.stats as stats\n",
        "frecuencia  = float(input(\"ingrese la frecuencia de la señal: \"))\n",
        "media = 1000\n",
        "desviacion = 300\n",
        "h = 1/2\n",
        "exponente = ((frecuencia - media) ** 2) / (desviacion ** 2)\n",
        "denominador = desviacion * np.sqrt(2 * np.pi)\n",
        "f_x = (1 / denominador) * np.exp(-h * exponente)\n",
        "prob_acumulada = stats.norm.cdf(frecuencia, loc=media, scale=desviacion)\n",
        "if prob_acumulada > 0.3:\n",
        "  print(\"la señal pasa por el filtro\")\n",
        "else:\n",
        "  print(\"la señal se bloquea por el filtro\")\n"
      ],
      "metadata": {
        "colab": {
          "base_uri": "https://localhost:8080/"
        },
        "id": "FkF61oCb3iMs",
        "outputId": "7477f6f1-d2d1-4976-de4a-e32120684228"
      },
      "execution_count": 50,
      "outputs": [
        {
          "output_type": "stream",
          "name": "stdout",
          "text": [
            "ingrese la frecuencia de la señal: 843\n",
            "la señal pasa por el filtro\n"
          ]
        }
      ]
    }
  ],
  "metadata": {
    "colab": {
      "name": "Te damos la bienvenida a Colaboratory",
      "toc_visible": true,
      "provenance": [],
      "include_colab_link": true
    },
    "kernelspec": {
      "display_name": "Python 3",
      "name": "python3"
    }
  },
  "nbformat": 4,
  "nbformat_minor": 0
}