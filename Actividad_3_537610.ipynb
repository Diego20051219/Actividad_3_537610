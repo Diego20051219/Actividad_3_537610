{
  "nbformat": 4,
  "nbformat_minor": 0,
  "metadata": {
    "colab": {
      "provenance": [],
      "authorship_tag": "ABX9TyNzCEdsstAV0HszdoA4J7kg",
      "include_colab_link": true
    },
    "kernelspec": {
      "name": "python3",
      "display_name": "Python 3"
    },
    "language_info": {
      "name": "python"
    }
  },
  "cells": [
    {
      "cell_type": "markdown",
      "metadata": {
        "id": "view-in-github",
        "colab_type": "text"
      },
      "source": [
        "<a href=\"https://colab.research.google.com/github/Diego20051219/Actividad_3_537610/blob/main/Actividad_3_537610.ipynb\" target=\"_parent\"><img src=\"https://colab.research.google.com/assets/colab-badge.svg\" alt=\"Open In Colab\"/></a>"
      ]
    },
    {
      "cell_type": "markdown",
      "source": [
        " ## Actividad Evaluativa 3\n",
        "\n",
        " **Fecha:** _22 de marzo de 2024_\n",
        "\n",
        " **Presentado por:** _Diego Andres Miranda Fernandez_\n",
        "\n",
        " **Email:** _diego.mirandaf@upb.edu.co_"
      ],
      "metadata": {
        "id": "BSm18QeM1IRU"
      }
    },
    {
      "cell_type": "code",
      "execution_count": null,
      "metadata": {
        "id": "ZaK0kCJy0kfO"
      },
      "outputs": [],
      "source": [
        "import numpy as np\n",
        "media = 1000\n",
        "desviacion = 300\n",
        "s = 0.3\n",
        "prob_acumulada = 0\n",
        "i = 0\n",
        "print(\"Bienvenidos al programa frecuencia de señal\")\n",
        "frecuencia = float(input(\"Ingrese la frecuencia de la señal: \")) #Entradas\n",
        "for i in range(int(frecuencia)):  # Ciclo for para iterar hasta el valor de la frecuencia\n",
        "    f_x = 1 / (desviacion * np.sqrt(2 * np.pi)) * np.exp(-((i - media) ** 2) / (2 * desviacion ** 2))  # Calcular la densidad de probabilidad\n",
        "    prob_acumulada += f_x  # Acumular la densidad de probabilidad\n",
        "\n",
        "if prob_acumulada > s: # Condicion\n",
        "    print(\"La señal pasa por el filtro.\") # Salida Si es verdadero\n",
        "else:\n",
        "    print(\"La señal se bloquea por el filtro.\") # Salida si es falso"
      ]
    }
  ]
}